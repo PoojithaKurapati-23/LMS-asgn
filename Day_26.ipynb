{
  "nbformat": 4,
  "nbformat_minor": 0,
  "metadata": {
    "colab": {
      "provenance": [],
      "authorship_tag": "ABX9TyPjB35kVUf8ec8TOmASfQdi",
      "include_colab_link": true
    },
    "kernelspec": {
      "name": "python3",
      "display_name": "Python 3"
    },
    "language_info": {
      "name": "python"
    }
  },
  "cells": [
    {
      "cell_type": "markdown",
      "metadata": {
        "id": "view-in-github",
        "colab_type": "text"
      },
      "source": [
        "<a href=\"https://colab.research.google.com/github/PoojithaKurapati-23/LMS-asgn/blob/main/Day_26.ipynb\" target=\"_parent\"><img src=\"https://colab.research.google.com/assets/colab-badge.svg\" alt=\"Open In Colab\"/></a>"
      ]
    },
    {
      "cell_type": "code",
      "execution_count": null,
      "metadata": {
        "id": "grjmH9wCzFH1"
      },
      "outputs": [],
      "source": []
    },
    {
      "source": [
        "!pip install scikit-learn"
      ],
      "cell_type": "code",
      "metadata": {
        "id": "4Hcl3iWJgUMw"
      },
      "execution_count": null,
      "outputs": []
    },
    {
      "source": [
        "from sklearn.feature_extraction.text import TfidfVectorizer\n",
        "from sklearn.metrics.pairwise import cosine_similarity\n",
        "\n",
        "def calculate_cosine_similarity(string1, string2):\n",
        "    \"\"\"\n",
        "    Calculates the cosine similarity between two strings using TF-IDF.\n",
        "\n",
        "    Args:\n",
        "        string1: The first string.\n",
        "        string2: The second string.\n",
        "\n",
        "    Returns:\n",
        "        The cosine similarity between the two strings.\n",
        "    \"\"\"\n",
        "\n",
        "    # Create a TfidfVectorizer object\n",
        "    vectorizer = TfidfVectorizer()\n",
        "\n",
        "    # Fit the vectorizer to the strings\n",
        "    tfidf_matrix = vectorizer.fit_transform([string1, string2])\n",
        "\n",
        "    # Calculate the cosine similarity\n",
        "    similarity = cosine_similarity(tfidf_matrix[0], tfidf_matrix[1])\n",
        "\n",
        "    # Return the similarity score\n",
        "    return similarity[0][0]\n",
        "\n",
        "# Example usage\n",
        "string1 = \"This is the first string.\"\n",
        "string2 = \"This is the second string.\"\n",
        "\n",
        "similarity_score = calculate_cosine_similarity(string1, string2)\n",
        "\n",
        "print(f\"Cosine similarity between the two strings: {similarity_score}\")"
      ],
      "cell_type": "code",
      "metadata": {
        "colab": {
          "base_uri": "https://localhost:8080/"
        },
        "id": "aFJn4Z24gU0y",
        "outputId": "b3238d7c-230c-4705-f73c-78be7bef147f"
      },
      "execution_count": 6,
      "outputs": [
        {
          "output_type": "stream",
          "name": "stdout",
          "text": [
            "Cosine similarity between the two strings: 0.6694188517266485\n"
          ]
        }
      ]
    }
  ]
}