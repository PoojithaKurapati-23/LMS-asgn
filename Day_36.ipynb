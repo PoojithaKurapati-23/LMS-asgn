{
  "nbformat": 4,
  "nbformat_minor": 0,
  "metadata": {
    "colab": {
      "provenance": [],
      "authorship_tag": "ABX9TyO4MnGseVjbeb0ZtoikjAxW",
      "include_colab_link": true
    },
    "kernelspec": {
      "name": "python3",
      "display_name": "Python 3"
    },
    "language_info": {
      "name": "python"
    }
  },
  "cells": [
    {
      "cell_type": "markdown",
      "metadata": {
        "id": "view-in-github",
        "colab_type": "text"
      },
      "source": [
        "<a href=\"https://colab.research.google.com/github/PoojithaKurapati-23/LMS-asgn/blob/main/Day_36.ipynb\" target=\"_parent\"><img src=\"https://colab.research.google.com/assets/colab-badge.svg\" alt=\"Open In Colab\"/></a>"
      ]
    },
    {
      "cell_type": "code",
      "source": [
        "from sklearn.feature_extraction.text import CountVectorizer\n",
        "from sklearn.naive_bayes import MultinomialNB\n",
        "from sklearn.pipeline import Pipeline\n",
        "\n",
        "def train_and_predict(texts, labels, new_text):\n",
        "    # Create a pipeline with CountVectorizer and MultinomialNB\n",
        "    model = Pipeline([\n",
        "        ('vectorizer', CountVectorizer()),\n",
        "        ('classifier', MultinomialNB())\n",
        "    ])\n",
        "\n",
        "    # Train the model\n",
        "    model.fit(texts, labels)\n",
        "\n",
        "    # Predict the category of the new text\n",
        "    prediction = model.predict([new_text])\n",
        "\n",
        "    return prediction[0]\n",
        "\n",
        "# Example usage\n",
        "texts = [\n",
        "    \"I love programming\",\n",
        "    \"Python is great\",\n",
        "    \"Machine learning is amazing\",\n",
        "    \"Data science is fun\",\n",
        "    \"I enjoy solving problems with code\"\n",
        "]\n",
        "labels = [\"programming\", \"programming\", \"machine learning\", \"machine learning\", \"programming\"]\n",
        "\n",
        "new_text = \"I like building machine learning models\"\n",
        "predicted_category = train_and_predict(texts, labels, new_text)\n",
        "\n",
        "print(\"Predicted Category:\", predicted_category)\n"
      ],
      "metadata": {
        "colab": {
          "base_uri": "https://localhost:8080/"
        },
        "id": "2eBM1JMwpXxi",
        "outputId": "15771277-5233-493b-f41f-414c2a382ec5"
      },
      "execution_count": 2,
      "outputs": [
        {
          "output_type": "stream",
          "name": "stdout",
          "text": [
            "Predicted Category: machine learning\n"
          ]
        }
      ]
    }
  ]
}