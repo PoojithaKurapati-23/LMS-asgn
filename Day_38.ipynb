{
  "nbformat": 4,
  "nbformat_minor": 0,
  "metadata": {
    "colab": {
      "provenance": [],
      "authorship_tag": "ABX9TyNUJBh3f37OylvFzY2aXaW3",
      "include_colab_link": true
    },
    "kernelspec": {
      "name": "python3",
      "display_name": "Python 3"
    },
    "language_info": {
      "name": "python"
    }
  },
  "cells": [
    {
      "cell_type": "markdown",
      "metadata": {
        "id": "view-in-github",
        "colab_type": "text"
      },
      "source": [
        "<a href=\"https://colab.research.google.com/github/PoojithaKurapati-23/LMS-asgn/blob/main/Day_38.ipynb\" target=\"_parent\"><img src=\"https://colab.research.google.com/assets/colab-badge.svg\" alt=\"Open In Colab\"/></a>"
      ]
    },
    {
      "cell_type": "code",
      "source": [
        "from sklearn.feature_extraction.text import TfidfVectorizer\n",
        "from sklearn.tree import DecisionTreeClassifier\n",
        "from sklearn.pipeline import Pipeline\n",
        "\n",
        "def train_and_predict(texts, labels, new_text):\n",
        "    # Create a pipeline with TfidfVectorizer and DecisionTreeClassifier\n",
        "    model = Pipeline([\n",
        "        ('vectorizer', TfidfVectorizer()),\n",
        "        ('classifier', DecisionTreeClassifier())\n",
        "    ])\n",
        "\n",
        "    # Train the model\n",
        "    model.fit(texts, labels)\n",
        "\n",
        "    # Predict the category of the new text\n",
        "    prediction = model.predict([new_text])\n",
        "\n",
        "    return prediction[0]\n",
        "\n",
        "# Example usage\n",
        "texts = [\n",
        "    \"Spam messages are annoying\",\n",
        "    \"I won a lottery\",\n",
        "    \"This is a normal message\",\n",
        "    \"You have been selected for a prize\",\n",
        "    \"Let's meet for coffee\"\n",
        "]\n",
        "labels = [\"spam\", \"spam\", \"ham\", \"spam\", \"ham\"]\n",
        "\n",
        "new_text = \"Congratulations! You won a free gift.\"\n",
        "predicted_category = train_and_predict(texts, labels, new_text)\n",
        "\n",
        "print(\"Predicted Category:\", predicted_category)\n"
      ],
      "metadata": {
        "colab": {
          "base_uri": "https://localhost:8080/"
        },
        "id": "ptxDdC-KqayG",
        "outputId": "3d21a331-d62e-4dd5-c93e-59ee5817de37"
      },
      "execution_count": 3,
      "outputs": [
        {
          "output_type": "stream",
          "name": "stdout",
          "text": [
            "Predicted Category: spam\n"
          ]
        }
      ]
    }
  ]
}