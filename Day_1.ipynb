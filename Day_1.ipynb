{
  "nbformat": 4,
  "nbformat_minor": 0,
  "metadata": {
    "colab": {
      "provenance": [],
      "authorship_tag": "ABX9TyMax3VbDmWc20iHIegz1iDO",
      "include_colab_link": true
    },
    "kernelspec": {
      "name": "python3",
      "display_name": "Python 3"
    },
    "language_info": {
      "name": "python"
    }
  },
  "cells": [
    {
      "cell_type": "markdown",
      "metadata": {
        "id": "view-in-github",
        "colab_type": "text"
      },
      "source": [
        "<a href=\"https://colab.research.google.com/github/PoojithaKurapati-23/LMS-asgn/blob/main/Day_1.ipynb\" target=\"_parent\"><img src=\"https://colab.research.google.com/assets/colab-badge.svg\" alt=\"Open In Colab\"/></a>"
      ]
    },
    {
      "cell_type": "code",
      "execution_count": null,
      "metadata": {
        "id": "grjmH9wCzFH1"
      },
      "outputs": [],
      "source": []
    },
    {
      "source": [
        "# Declare an integer variable\n",
        "integer_variable = 10\n",
        "\n",
        "# Declare a float variable\n",
        "float_variable = 3.14\n",
        "\n",
        "# Declare a string variable\n",
        "string_variable = \"Hello, world!\"\n",
        "\n",
        "# Declare a boolean variable\n",
        "boolean_variable = True\n",
        "\n",
        "# Print the variables and their types\n",
        "print(f\"integer_variable: {integer_variable}, Type: {type(integer_variable)}\")\n",
        "print(f\"float_variable: {float_variable}, Type: {type(float_variable)}\")\n",
        "print(f\"string_variable: {string_variable}, Type: {type(string_variable)}\")\n",
        "print(f\"boolean_variable: {boolean_variable}, Type: {type(boolean_variable)}\")"
      ],
      "cell_type": "code",
      "metadata": {
        "colab": {
          "base_uri": "https://localhost:8080/"
        },
        "id": "fcBV7zztzWeH",
        "outputId": "cad14bef-a020-4bdb-af5a-14b51f598e71"
      },
      "execution_count": 1,
      "outputs": [
        {
          "output_type": "stream",
          "name": "stdout",
          "text": [
            "integer_variable: 10, Type: <class 'int'>\n",
            "float_variable: 3.14, Type: <class 'float'>\n",
            "string_variable: Hello, world!, Type: <class 'str'>\n",
            "boolean_variable: True, Type: <class 'bool'>\n"
          ]
        }
      ]
    }
  ]
}