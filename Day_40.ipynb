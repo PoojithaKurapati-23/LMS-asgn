{
  "nbformat": 4,
  "nbformat_minor": 0,
  "metadata": {
    "colab": {
      "provenance": [],
      "authorship_tag": "ABX9TyOm02n34GjRmSf7AIOJtKqP",
      "include_colab_link": true
    },
    "kernelspec": {
      "name": "python3",
      "display_name": "Python 3"
    },
    "language_info": {
      "name": "python"
    }
  },
  "cells": [
    {
      "cell_type": "markdown",
      "metadata": {
        "id": "view-in-github",
        "colab_type": "text"
      },
      "source": [
        "<a href=\"https://colab.research.google.com/github/PoojithaKurapati-23/LMS-asgn/blob/main/Day_40.ipynb\" target=\"_parent\"><img src=\"https://colab.research.google.com/assets/colab-badge.svg\" alt=\"Open In Colab\"/></a>"
      ]
    },
    {
      "cell_type": "code",
      "source": [
        "from sklearn.feature_extraction.text import TfidfVectorizer\n",
        "from sklearn.ensemble import RandomForestClassifier\n",
        "from sklearn.pipeline import Pipeline\n",
        "\n",
        "def train_and_predict(texts, labels, new_text):\n",
        "    # Create a pipeline with TfidfVectorizer and RandomForestClassifier\n",
        "    model = Pipeline([\n",
        "        ('vectorizer', TfidfVectorizer()),\n",
        "        ('classifier', RandomForestClassifier(n_estimators=100, random_state=42))\n",
        "    ])\n",
        "\n",
        "    # Train the model\n",
        "    model.fit(texts, labels)\n",
        "\n",
        "    # Predict the category of the new text\n",
        "    prediction = model.predict([new_text])\n",
        "\n",
        "    return prediction[0]\n",
        "\n",
        "# Example usage\n",
        "texts = [\n",
        "    \"Buy now and win a prize\",\n",
        "    \"Normal email content\",\n",
        "    \"Congratulations, you won!\",\n",
        "    \"Limited offer, act fast!\",\n",
        "    \"Meeting at 3 PM in the office\"\n",
        "]\n",
        "labels = [\"spam\", \"ham\", \"spam\", \"spam\", \"ham\"]\n",
        "\n",
        "new_text = \"Exclusive deal just for you, claim your prize!\"\n",
        "predicted_category = train_and_predict(texts, labels, new_text)\n",
        "\n",
        "print(\"Predicted Category:\", predicted_category)\n"
      ],
      "metadata": {
        "colab": {
          "base_uri": "https://localhost:8080/"
        },
        "id": "1jPoGDSSqng8",
        "outputId": "43365976-3657-4e7f-b9ab-15bd6ae76c59"
      },
      "execution_count": 4,
      "outputs": [
        {
          "output_type": "stream",
          "name": "stdout",
          "text": [
            "Predicted Category: spam\n"
          ]
        }
      ]
    }
  ]
}