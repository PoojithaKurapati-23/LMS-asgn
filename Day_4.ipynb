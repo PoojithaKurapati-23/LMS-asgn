{
  "nbformat": 4,
  "nbformat_minor": 0,
  "metadata": {
    "colab": {
      "provenance": [],
      "authorship_tag": "ABX9TyNeIZq4iPG11vOxVGNpHV39",
      "include_colab_link": true
    },
    "kernelspec": {
      "name": "python3",
      "display_name": "Python 3"
    },
    "language_info": {
      "name": "python"
    }
  },
  "cells": [
    {
      "cell_type": "markdown",
      "metadata": {
        "id": "view-in-github",
        "colab_type": "text"
      },
      "source": [
        "<a href=\"https://colab.research.google.com/github/PoojithaKurapati-23/LMS-asgn/blob/main/Day_4.ipynb\" target=\"_parent\"><img src=\"https://colab.research.google.com/assets/colab-badge.svg\" alt=\"Open In Colab\"/></a>"
      ]
    },
    {
      "cell_type": "code",
      "execution_count": null,
      "metadata": {
        "id": "grjmH9wCzFH1"
      },
      "outputs": [],
      "source": []
    },
    {
      "source": [
        "def sum_of_even_numbers(n):\n",
        "  \"\"\"\n",
        "  Calculates the sum of all even numbers between 1 and n.\n",
        "\n",
        "  Args:\n",
        "    n: The upper limit (inclusive).\n",
        "\n",
        "  Returns:\n",
        "    The sum of even numbers.\n",
        "  \"\"\"\n",
        "  total_sum = 0\n",
        "  for i in range(2, n + 1, 2):  # Iterate through even numbers from 2 to n\n",
        "    total_sum += i\n",
        "  return total_sum\n",
        "\n",
        "# Get input from the user\n",
        "n = int(input(\"Enter a positive integer: \"))\n",
        "\n",
        "# Calculate and print the sum\n",
        "sum_even = sum_of_even_numbers(n)\n",
        "print(f\"The sum of even numbers between 1 and {n} is: {sum_even}\")"
      ],
      "cell_type": "code",
      "metadata": {
        "colab": {
          "base_uri": "https://localhost:8080/"
        },
        "id": "2hxGyiXs3Js8",
        "outputId": "a3b596dc-9562-4370-e722-25a08abe32b9"
      },
      "execution_count": 5,
      "outputs": [
        {
          "output_type": "stream",
          "name": "stdout",
          "text": [
            "Enter a positive integer: 8\n",
            "The sum of even numbers between 1 and 8 is: 20\n"
          ]
        }
      ]
    }
  ]
}