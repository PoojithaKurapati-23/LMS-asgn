{
  "nbformat": 4,
  "nbformat_minor": 0,
  "metadata": {
    "colab": {
      "provenance": [],
      "authorship_tag": "ABX9TyO9V+0ivVJ9m6OFbb1tdI4O",
      "include_colab_link": true
    },
    "kernelspec": {
      "name": "python3",
      "display_name": "Python 3"
    },
    "language_info": {
      "name": "python"
    }
  },
  "cells": [
    {
      "cell_type": "markdown",
      "metadata": {
        "id": "view-in-github",
        "colab_type": "text"
      },
      "source": [
        "<a href=\"https://colab.research.google.com/github/PoojithaKurapati-23/LMS-asgn/blob/main/Day_5.ipynb\" target=\"_parent\"><img src=\"https://colab.research.google.com/assets/colab-badge.svg\" alt=\"Open In Colab\"/></a>"
      ]
    },
    {
      "cell_type": "code",
      "execution_count": null,
      "metadata": {
        "id": "grjmH9wCzFH1"
      },
      "outputs": [],
      "source": []
    },
    {
      "source": [
        "import re\n",
        "\n",
        "def word_frequency(text):\n",
        "  \"\"\"\n",
        "  Calculates the frequency of each word in a text.\n",
        "\n",
        "  Args:\n",
        "    text: The input text.\n",
        "\n",
        "  Returns:\n",
        "    A dictionary where keys are words and values are their frequencies.\n",
        "  \"\"\"\n",
        "  words = re.findall(r'\\b\\w+\\b', text.lower())  # Find all words (alphanumeric)\n",
        "  word_counts = {}\n",
        "  for word in words:\n",
        "    word_counts[word] = word_counts.get(word, 0) + 1\n",
        "  return word_counts\n",
        "\n",
        "# Get input text from the user\n",
        "text = input(\"Enter some text: \")\n",
        "\n",
        "# Calculate and print word frequencies\n",
        "frequencies = word_frequency(text)\n",
        "for word, count in frequencies.items():\n",
        "  print(f\"{word}: {count}\")"
      ],
      "cell_type": "code",
      "metadata": {
        "colab": {
          "base_uri": "https://localhost:8080/"
        },
        "id": "uC16w58X3uhh",
        "outputId": "57cf51d7-3a00-49a9-bbd0-eb74ffce043b"
      },
      "execution_count": 6,
      "outputs": [
        {
          "output_type": "stream",
          "name": "stdout",
          "text": [
            "Enter some text: Hello World\n",
            "hello: 1\n",
            "world: 1\n"
          ]
        }
      ]
    }
  ]
}