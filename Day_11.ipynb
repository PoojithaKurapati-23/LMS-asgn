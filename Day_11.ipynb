{
  "nbformat": 4,
  "nbformat_minor": 0,
  "metadata": {
    "colab": {
      "provenance": [],
      "authorship_tag": "ABX9TyNhvre2+80ldRDNI9TsS0sg",
      "include_colab_link": true
    },
    "kernelspec": {
      "name": "python3",
      "display_name": "Python 3"
    },
    "language_info": {
      "name": "python"
    }
  },
  "cells": [
    {
      "cell_type": "markdown",
      "metadata": {
        "id": "view-in-github",
        "colab_type": "text"
      },
      "source": [
        "<a href=\"https://colab.research.google.com/github/PoojithaKurapati-23/LMS-asgn/blob/main/Day_11.ipynb\" target=\"_parent\"><img src=\"https://colab.research.google.com/assets/colab-badge.svg\" alt=\"Open In Colab\"/></a>"
      ]
    },
    {
      "cell_type": "code",
      "execution_count": null,
      "metadata": {
        "id": "grjmH9wCzFH1"
      },
      "outputs": [],
      "source": []
    },
    {
      "source": [
        "import nltk\n",
        "nltk.download('punkt')  # Download the punkt tokenizer models if you haven't already\n",
        "\n",
        "paragraph = \"\"\"This is a sample paragraph. It has multiple sentences.\n",
        "We will tokenize it into words and sentences using NLTK.\"\"\"\n",
        "\n",
        "# Tokenize into sentences\n",
        "sentences = nltk.sent_tokenize(paragraph)\n",
        "\n",
        "# Tokenize each sentence into words\n",
        "words = [nltk.word_tokenize(sentence) for sentence in sentences]\n",
        "\n",
        "# Print the results\n",
        "print(\"Sentences:\")\n",
        "for sentence in sentences:\n",
        "    print(sentence)\n",
        "\n",
        "print(\"\\nWords:\")\n",
        "for sentence_words in words:\n",
        "    print(sentence_words)"
      ],
      "cell_type": "code",
      "metadata": {
        "colab": {
          "base_uri": "https://localhost:8080/"
        },
        "id": "SMsjaPGV8zZM",
        "outputId": "a554fc86-d9f9-44fe-d1a9-ab0f253f3098"
      },
      "execution_count": 21,
      "outputs": [
        {
          "output_type": "stream",
          "name": "stdout",
          "text": [
            "Sentences:\n",
            "This is a sample paragraph.\n",
            "It has multiple sentences.\n",
            "We will tokenize it into words and sentences using NLTK.\n",
            "\n",
            "Words:\n",
            "['This', 'is', 'a', 'sample', 'paragraph', '.']\n",
            "['It', 'has', 'multiple', 'sentences', '.']\n",
            "['We', 'will', 'tokenize', 'it', 'into', 'words', 'and', 'sentences', 'using', 'NLTK', '.']\n"
          ]
        },
        {
          "output_type": "stream",
          "name": "stderr",
          "text": [
            "[nltk_data] Downloading package punkt to /root/nltk_data...\n",
            "[nltk_data]   Package punkt is already up-to-date!\n"
          ]
        }
      ]
    }
  ]
}