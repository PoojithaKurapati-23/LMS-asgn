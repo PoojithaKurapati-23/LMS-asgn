{
  "nbformat": 4,
  "nbformat_minor": 0,
  "metadata": {
    "colab": {
      "provenance": [],
      "authorship_tag": "ABX9TyOorDwZsXPdaWC5dHIzYcMu",
      "include_colab_link": true
    },
    "kernelspec": {
      "name": "python3",
      "display_name": "Python 3"
    },
    "language_info": {
      "name": "python"
    }
  },
  "cells": [
    {
      "cell_type": "markdown",
      "metadata": {
        "id": "view-in-github",
        "colab_type": "text"
      },
      "source": [
        "<a href=\"https://colab.research.google.com/github/PoojithaKurapati-23/LMS-asgn/blob/main/Day_24.ipynb\" target=\"_parent\"><img src=\"https://colab.research.google.com/assets/colab-badge.svg\" alt=\"Open In Colab\"/></a>"
      ]
    },
    {
      "cell_type": "code",
      "execution_count": null,
      "metadata": {
        "id": "grjmH9wCzFH1"
      },
      "outputs": [],
      "source": []
    },
    {
      "cell_type": "code",
      "source": [],
      "metadata": {
        "id": "XjcMCBJ3fGWL"
      },
      "execution_count": null,
      "outputs": []
    },
    {
      "source": [
        "import nltk\n",
        "from nltk.tokenize import word_tokenize\n",
        "from nltk.probability import FreqDist\n",
        "\n",
        "# Download the 'punkt_tab' data\n",
        "nltk.download('punkt_tab')\n",
        "\n",
        "# Specify the correct file path\n",
        "file_path = 'path/to/your_file.txt'  # Replace 'path/to' with the actual path\n",
        "\n",
        "# Load the text file\n",
        "try:\n",
        "    with open(file_path, 'r') as file:\n",
        "        text = file.read()\n",
        "except FileNotFoundError:\n",
        "    print(f\"Error: File not found at {file_path}. Please check the file path.\")\n",
        "    # Handle the error gracefully, for example, by exiting or using a default text\n",
        "    #exit()  # Exit the script\n",
        "    text = \"\" # Assign an empty string to text to avoid the NameError\n",
        "\n",
        "# Tokenize the text\n",
        "tokens = word_tokenize(text)\n",
        "\n",
        "# Calculate word frequency\n",
        "frequency_distribution = FreqDist(tokens)\n",
        "\n",
        "# Get the 10 most common words\n",
        "most_common_words = frequency_distribution.most_common(10)\n",
        "\n",
        "# Print the most common words\n",
        "for word, frequency in most_common_words:\n",
        "    print(f'{word}: {frequency}')"
      ],
      "cell_type": "code",
      "metadata": {
        "colab": {
          "base_uri": "https://localhost:8080/"
        },
        "id": "wedscPVCfe6u",
        "outputId": "52806df0-5983-4006-a72f-7906eb8ee586"
      },
      "execution_count": 5,
      "outputs": [
        {
          "output_type": "stream",
          "name": "stderr",
          "text": [
            "[nltk_data] Downloading package punkt_tab to /root/nltk_data...\n",
            "[nltk_data]   Unzipping tokenizers/punkt_tab.zip.\n"
          ]
        },
        {
          "output_type": "stream",
          "name": "stdout",
          "text": [
            "Error: File not found at path/to/your_file.txt. Please check the file path.\n"
          ]
        }
      ]
    },
    {
      "cell_type": "code",
      "source": [],
      "metadata": {
        "id": "nffyt0lPfQoc"
      },
      "execution_count": null,
      "outputs": []
    }
  ]
}