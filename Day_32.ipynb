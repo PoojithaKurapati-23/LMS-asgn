{
  "nbformat": 4,
  "nbformat_minor": 0,
  "metadata": {
    "colab": {
      "provenance": [],
      "authorship_tag": "ABX9TyN6Uixj64qBTLEBALkmnmJB",
      "include_colab_link": true
    },
    "kernelspec": {
      "name": "python3",
      "display_name": "Python 3"
    },
    "language_info": {
      "name": "python"
    }
  },
  "cells": [
    {
      "cell_type": "markdown",
      "metadata": {
        "id": "view-in-github",
        "colab_type": "text"
      },
      "source": [
        "<a href=\"https://colab.research.google.com/github/PoojithaKurapati-23/LMS-asgn/blob/main/Day_32.ipynb\" target=\"_parent\"><img src=\"https://colab.research.google.com/assets/colab-badge.svg\" alt=\"Open In Colab\"/></a>"
      ]
    },
    {
      "cell_type": "code",
      "execution_count": null,
      "metadata": {
        "id": "grjmH9wCzFH1"
      },
      "outputs": [],
      "source": []
    },
    {
      "source": [
        "import nltk\n",
        "from nltk.tokenize import word_tokenize\n",
        "from collections import Counter\n",
        "\n",
        "nltk.download('punkt')  # Download necessary data for tokenization\n",
        "\n",
        "\n",
        "def calculate_tf(text):\n",
        "    \"\"\"\n",
        "    Calculates the term frequency (TF) of each token in a text.\n",
        "\n",
        "    Args:\n",
        "        text: The input text.\n",
        "\n",
        "    Returns:\n",
        "        A dictionary where keys are tokens and values are their TF.\n",
        "    \"\"\"\n",
        "\n",
        "    # Tokenize the text\n",
        "    tokens = word_tokenize(text)\n",
        "\n",
        "    # Calculate term frequency using Counter\n",
        "    tf = Counter(tokens)\n",
        "\n",
        "    return tf\n",
        "\n",
        "def display_top_tokens(tf, num_tokens=5):\n",
        "    \"\"\"\n",
        "    Displays the top N most frequent tokens.\n",
        "\n",
        "    Args:\n",
        "        tf: The term frequency dictionary.\n",
        "        num_tokens: The number of top tokens to display (default: 5).\n",
        "    \"\"\"\n",
        "\n",
        "    # Get the most common tokens\n",
        "    top_tokens = tf.most_common(num_tokens)\n",
        "\n",
        "    # Print the top tokens and their frequencies\n",
        "    print(f\"Top {num_tokens} most frequent tokens:\")\n",
        "    for token, frequency in top_tokens:\n",
        "        print(f\"{token}: {frequency}\")\n",
        "\n",
        "# Example usage\n",
        "file_path = \"your_file.txt\"  # Replace with your file path\n",
        "\n",
        "try:\n",
        "    with open(file_path, \"r\") as file:\n",
        "        text = file.read()\n",
        "\n",
        "    # Calculate term frequency\n",
        "    tf = calculate_tf(text)\n",
        "\n",
        "    # Display top 5 tokens\n",
        "    display_top_tokens(tf)\n",
        "\n",
        "except FileNotFoundError:\n",
        "    print(f\"Error: File not found at {file_path}. Please check the file path.\")"
      ],
      "cell_type": "code",
      "metadata": {
        "colab": {
          "base_uri": "https://localhost:8080/"
        },
        "id": "hGpD7hPyjeGc",
        "outputId": "f84263e1-3303-4bd1-9901-338664078677"
      },
      "execution_count": 10,
      "outputs": [
        {
          "output_type": "stream",
          "name": "stdout",
          "text": [
            "Error: File not found at your_file.txt. Please check the file path.\n"
          ]
        },
        {
          "output_type": "stream",
          "name": "stderr",
          "text": [
            "[nltk_data] Downloading package punkt to /root/nltk_data...\n",
            "[nltk_data]   Package punkt is already up-to-date!\n"
          ]
        }
      ]
    }
  ]
}