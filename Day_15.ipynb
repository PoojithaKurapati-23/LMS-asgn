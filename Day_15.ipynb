{
  "nbformat": 4,
  "nbformat_minor": 0,
  "metadata": {
    "colab": {
      "provenance": [],
      "authorship_tag": "ABX9TyN+/rbEizrDnXkYtFTpsjfM",
      "include_colab_link": true
    },
    "kernelspec": {
      "name": "python3",
      "display_name": "Python 3"
    },
    "language_info": {
      "name": "python"
    }
  },
  "cells": [
    {
      "cell_type": "markdown",
      "metadata": {
        "id": "view-in-github",
        "colab_type": "text"
      },
      "source": [
        "<a href=\"https://colab.research.google.com/github/PoojithaKurapati-23/LMS-asgn/blob/main/Day_15.ipynb\" target=\"_parent\"><img src=\"https://colab.research.google.com/assets/colab-badge.svg\" alt=\"Open In Colab\"/></a>"
      ]
    },
    {
      "cell_type": "code",
      "execution_count": null,
      "metadata": {
        "id": "grjmH9wCzFH1"
      },
      "outputs": [],
      "source": []
    },
    {
      "source": [
        "import re\n",
        "\n",
        "def extract_emails(text):\n",
        "    \"\"\"\n",
        "    Extracts all email addresses from a given string using regular expressions.\n",
        "\n",
        "    Args:\n",
        "        text: The input string containing email addresses.\n",
        "\n",
        "    Returns:\n",
        "        A list of extracted email addresses.\n",
        "    \"\"\"\n",
        "    email_pattern = r'\\b[A-Za-z0-9._%+-]+@[A-Za-z0-9.-]+\\.[A-Za-z]{2,}\\b'\n",
        "    emails = re.findall(email_pattern, text)\n",
        "    return emails\n",
        "\n",
        "# Test the function\n",
        "input_text = 'Contact us at support@example.com and sales@example.org.'\n",
        "extracted_emails = extract_emails(input_text)\n",
        "print(f\"Original text: {input_text}\")\n",
        "print(f\"Extracted emails: {extracted_emails}\")"
      ],
      "cell_type": "code",
      "metadata": {
        "colab": {
          "base_uri": "https://localhost:8080/"
        },
        "id": "xJ3jtKS79vvd",
        "outputId": "1a13daa2-d04a-41e9-d544-ec69b2485df6"
      },
      "execution_count": 23,
      "outputs": [
        {
          "output_type": "stream",
          "name": "stdout",
          "text": [
            "Original text: Contact us at support@example.com and sales@example.org.\n",
            "Extracted emails: ['support@example.com', 'sales@example.org']\n"
          ]
        }
      ]
    }
  ]
}