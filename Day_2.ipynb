{
  "nbformat": 4,
  "nbformat_minor": 0,
  "metadata": {
    "colab": {
      "provenance": [],
      "authorship_tag": "ABX9TyMruZFOvLcnSX2CeDHCMVlB",
      "include_colab_link": true
    },
    "kernelspec": {
      "name": "python3",
      "display_name": "Python 3"
    },
    "language_info": {
      "name": "python"
    }
  },
  "cells": [
    {
      "cell_type": "markdown",
      "metadata": {
        "id": "view-in-github",
        "colab_type": "text"
      },
      "source": [
        "<a href=\"https://colab.research.google.com/github/PoojithaKurapati-23/LMS-asgn/blob/main/Day_2.ipynb\" target=\"_parent\"><img src=\"https://colab.research.google.com/assets/colab-badge.svg\" alt=\"Open In Colab\"/></a>"
      ]
    },
    {
      "cell_type": "code",
      "execution_count": null,
      "metadata": {
        "id": "grjmH9wCzFH1"
      },
      "outputs": [],
      "source": []
    },
    {
      "source": [
        "my_list = [10, 20, 30, 40, 50]\n",
        "\n",
        "# Accessing elements by index:\n",
        "print(\"First element:\", my_list[0])  # Output: 10\n",
        "print(\"Third element:\", my_list[2])  # Output: 30\n",
        "print(\"Last element:\", my_list[-1]) # Output: 50\n",
        "print(\"Elements from index 1 to 3:\", my_list[1:4])  # Output: [20, 30, 40]"
      ],
      "cell_type": "code",
      "metadata": {
        "id": "eZ-sfcWW2AhT"
      },
      "execution_count": null,
      "outputs": []
    },
    {
      "source": [
        "my_tuple = (1, \"apple\", 3.14, True, [5, 6])\n",
        "\n",
        "# Accessing elements by index:\n",
        "print(\"First element:\", my_tuple[0])  # Output: 1\n",
        "print(\"Second element:\", my_tuple[1]) # Output: apple\n",
        "print(\"Elements from index 2 to 4:\", my_tuple[2:5])  # Output: (3.14, True, [5, 6])"
      ],
      "cell_type": "code",
      "metadata": {
        "id": "4D8-vErH2BkO"
      },
      "execution_count": null,
      "outputs": []
    },
    {
      "source": [
        "my_dict = {\"name\": \"Alice\", \"age\": 30, \"city\": \"New York\", \"is_student\": False, \"grades\": [85, 90, 95]}\n",
        "\n",
        "# Accessing elements by key:\n",
        "print(\"Name:\", my_dict[\"name\"])  # Output: Alice\n",
        "print(\"Age:\", my_dict[\"age\"])  # Output: 30\n",
        "print(\"Grades:\", my_dict[\"grades\"])  # Output: [85, 90, 95]\n",
        "# Accessing an element within the \"grades\" list:\n",
        "print(\"First grade:\", my_dict[\"grades\"][0])  # Output: 85"
      ],
      "cell_type": "code",
      "metadata": {
        "colab": {
          "base_uri": "https://localhost:8080/"
        },
        "id": "2zgAzDYg2ChF",
        "outputId": "0726952e-8440-413e-a763-13f818ce398d"
      },
      "execution_count": 2,
      "outputs": [
        {
          "output_type": "stream",
          "name": "stdout",
          "text": [
            "Name: Alice\n",
            "Age: 30\n",
            "Grades: [85, 90, 95]\n",
            "First grade: 85\n"
          ]
        }
      ]
    }
  ]
}